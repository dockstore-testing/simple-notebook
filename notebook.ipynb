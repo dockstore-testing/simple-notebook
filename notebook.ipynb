{
  "nbformat": 3,
  "nbformat_minor": 0,
  "metadata": {
    "kernelspec": {
      "name": "python3",
      "display_name": "Python 3"
    },
    "language_info": {
      "name": "python"
    }
  },
  "worksheets": [
    {
      "cells": [
        {
          "cell_type": "markdown",
          "source": [
            "A simple notebook."
          ]
        },
        {
          "cell_type": "code",
          "prompt_number": null,
          "outputs": [
            {
              "output_type": "stream",
              "name": "stdout",
              "text": [
                "Hello world!\n"
              ]
            }
          ],
          "input": [
            "print(\"Hello world!\")"
          ]
        }
      ]
    }
  ]
}
